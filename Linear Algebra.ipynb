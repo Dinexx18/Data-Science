{
 "cells": [
  {
   "cell_type": "code",
   "execution_count": 4,
   "id": "eeb83cb2-e573-4604-9762-fe01c8a6ea29",
   "metadata": {},
   "outputs": [
    {
     "name": "stdout",
     "output_type": "stream",
     "text": [
      "5.000000000000001\n"
     ]
    }
   ],
   "source": [
    "import numpy as np\n",
    "a = np.array([[3, 1],[1, 2]])\n",
    "b = np.array([9, 8])\n",
    "''' Checking if system of equation has unique solution '''\n",
    "print(np.linalg.det(a)) \n",
    "# 5.0"
   ]
  },
  {
   "cell_type": "code",
   "execution_count": 5,
   "id": "da9f8f82-0c27-4729-a744-f8e0c2e13b97",
   "metadata": {},
   "outputs": [
    {
     "name": "stdout",
     "output_type": "stream",
     "text": [
      "[2. 3.]\n"
     ]
    }
   ],
   "source": [
    "''' Since det = 5 which is non-zero. Hence, we have unique solutions\n",
    " Finding unique solution '''\n",
    "print(np.linalg.solve(a, b))\n",
    "# [ 2.  3.]"
   ]
  },
  {
   "cell_type": "code",
   "execution_count": 6,
   "id": "520c988c-abdc-4824-b6cf-8246a0314e63",
   "metadata": {},
   "outputs": [
    {
     "name": "stdout",
     "output_type": "stream",
     "text": [
      "[[ 0.4 -0.2]\n",
      " [-0.2  0.6]]\n"
     ]
    }
   ],
   "source": [
    "''' Calculating Inverse: Since, determinant is non-zero \n",
    " hence, matrix is invertible '''\n",
    "print(np.linalg.inv(a))\n",
    "# [[ 0.4 -0.2]\n",
    "#  [-0.2  0.6]]"
   ]
  },
  {
   "cell_type": "code",
   "execution_count": 7,
   "id": "5f702b2e-1e74-4bc1-ab3e-3ed9a038b717",
   "metadata": {},
   "outputs": [
    {
     "name": "stdout",
     "output_type": "stream",
     "text": [
      "2\n"
     ]
    }
   ],
   "source": [
    "''' Calculating Rank of the matrix '''\n",
    "print(np.linalg.matrix_rank(a))\n",
    "# 2 "
   ]
  },
  {
   "cell_type": "code",
   "execution_count": null,
   "id": "2993affa-6e58-454c-acc1-7f0c9939bca4",
   "metadata": {},
   "outputs": [],
   "source": []
  }
 ],
 "metadata": {
  "kernelspec": {
   "display_name": "Python 3 (ipykernel)",
   "language": "python",
   "name": "python3"
  },
  "language_info": {
   "codemirror_mode": {
    "name": "ipython",
    "version": 3
   },
   "file_extension": ".py",
   "mimetype": "text/x-python",
   "name": "python",
   "nbconvert_exporter": "python",
   "pygments_lexer": "ipython3",
   "version": "3.12.1"
  }
 },
 "nbformat": 4,
 "nbformat_minor": 5
}
