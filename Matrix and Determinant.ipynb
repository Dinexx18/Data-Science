{
 "cells": [
  {
   "cell_type": "code",
   "execution_count": 1,
   "id": "827d1643-ce20-4680-8f41-f3a9b430a9c0",
   "metadata": {},
   "outputs": [
    {
     "name": "stdout",
     "output_type": "stream",
     "text": [
      "Matrix:\n",
      "[[0 1]\n",
      " [2 3]]\n",
      "Determinant: -2.0\n"
     ]
    }
   ],
   "source": [
    "import numpy as np\n",
    "\n",
    "# Define the matrix correctly\n",
    "mat = np.matrix([[0, 1], [2, 3]])  # Reshaping a 1D array [0, 1, 2, 3] into a 2x2 matrix\n",
    "\n",
    "# Print the matrix\n",
    "print(\"Matrix:\")\n",
    "print(mat)\n",
    "\n",
    "# Calculate the determinant of the matrix\n",
    "det = np.linalg.det(mat)\n",
    "\n",
    "# Print the determinant\n",
    "print(\"Determinant:\", det)\n"
   ]
  },
  {
   "cell_type": "code",
   "execution_count": null,
   "id": "ee7b0baf-b5f2-4a6f-84da-cdc68f4022e5",
   "metadata": {},
   "outputs": [],
   "source": []
  }
 ],
 "metadata": {
  "kernelspec": {
   "display_name": "Python 3 (ipykernel)",
   "language": "python",
   "name": "python3"
  },
  "language_info": {
   "codemirror_mode": {
    "name": "ipython",
    "version": 3
   },
   "file_extension": ".py",
   "mimetype": "text/x-python",
   "name": "python",
   "nbconvert_exporter": "python",
   "pygments_lexer": "ipython3",
   "version": "3.12.1"
  }
 },
 "nbformat": 4,
 "nbformat_minor": 5
}
