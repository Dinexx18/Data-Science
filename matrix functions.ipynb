{
 "cells": [
  {
   "cell_type": "code",
   "execution_count": 3,
   "id": "e816687b-fa0f-4158-a90a-a247ed5abb89",
   "metadata": {},
   "outputs": [
    {
     "name": "stdout",
     "output_type": "stream",
     "text": [
      "1.0000000000000002\n"
     ]
    }
   ],
   "source": [
    "import numpy as np\n",
    "a = np.array([[2, 3, 2],[1, 3, 0],[2, 2, 3]])\n",
    "b = np.array([1, 2, 3])\n",
    "''' Checking if system of equation has unique solution '''\n",
    "print(np.linalg.det(a)) "
   ]
  },
  {
   "cell_type": "code",
   "execution_count": 6,
   "id": "2faff960-9fb3-4db7-bc58-1edf5adb7422",
   "metadata": {},
   "outputs": [
    {
     "data": {
      "text/plain": [
       "array([[ 58,  64],\n",
       "       [139, 154]])"
      ]
     },
     "execution_count": 6,
     "metadata": {},
     "output_type": "execute_result"
    }
   ],
   "source": [
    "c = np.array([[1, 2, 3],[4, 5, 6]])\n",
    "d = np.array([[7, 8],\n",
    "            [9, 10],\n",
    "            [11, 12]])\n",
    "np.matmul(c, d)"
   ]
  },
  {
   "cell_type": "code",
   "execution_count": null,
   "id": "595cf1c9-febc-4d4f-bb4a-8af7cd820100",
   "metadata": {},
   "outputs": [],
   "source": []
  }
 ],
 "metadata": {
  "kernelspec": {
   "display_name": "Python 3 (ipykernel)",
   "language": "python",
   "name": "python3"
  },
  "language_info": {
   "codemirror_mode": {
    "name": "ipython",
    "version": 3
   },
   "file_extension": ".py",
   "mimetype": "text/x-python",
   "name": "python",
   "nbconvert_exporter": "python",
   "pygments_lexer": "ipython3",
   "version": "3.12.1"
  }
 },
 "nbformat": 4,
 "nbformat_minor": 5
}
