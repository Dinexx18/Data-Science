{
 "cells": [
  {
   "cell_type": "code",
   "execution_count": 2,
   "id": "e9dde3dd-01f1-412f-ae7c-051dc01c6859",
   "metadata": {},
   "outputs": [],
   "source": [
    "import numpy as np"
   ]
  },
  {
   "cell_type": "code",
   "execution_count": 4,
   "id": "aa0615bf-a915-425f-8254-bd3aa0deded0",
   "metadata": {},
   "outputs": [
    {
     "name": "stdout",
     "output_type": "stream",
     "text": [
      "input_table:\n",
      "[[0 0]\n",
      " [0 1]\n",
      " [1 0]\n",
      " [1 1]]\n"
     ]
    }
   ],
   "source": [
    "input_table = np.array ([\n",
    "    [0,0], #both no\n",
    "    [0,1],\n",
    "    [1,0],\n",
    "    [1,1],\n",
    "])\n",
    "print(f'input_table:\\n{input_table}')"
   ]
  },
  {
   "cell_type": "code",
   "execution_count": 5,
   "id": "857f28c4-7f72-4acd-b2ca-d40048a75c7b",
   "metadata": {},
   "outputs": [
    {
     "name": "stdout",
     "output_type": "stream",
     "text": [
      "weights: [ 1 -1]\n"
     ]
    }
   ],
   "source": [
    "#array of weight\n",
    "weight = np.array([1,-1])\n",
    "print(f'weights: {weight}')"
   ]
  },
  {
   "cell_type": "code",
   "execution_count": 9,
   "id": "1839aff5-34bb-4686-a8a4-ceaa137ec610",
   "metadata": {},
   "outputs": [
    {
     "name": "stdout",
     "output_type": "stream",
     "text": [
      "Dot Products: [ 0 -1  1  0]\n"
     ]
    }
   ],
   "source": [
    "#Dot Product\n",
    "dot_product = input_table @ weight\n",
    "print(f'Dot Products: {dot_product}')"
   ]
  },
  {
   "cell_type": "code",
   "execution_count": 10,
   "id": "4193a328-ffa2-42a7-8c86-32ed568d55d2",
   "metadata": {},
   "outputs": [
    {
     "name": "stdout",
     "output_type": "stream",
     "text": [
      "Activation:0\n",
      "Activation:0\n",
      "Activation:1\n",
      "Activation:0\n"
     ]
    }
   ],
   "source": [
    "def linear_threshold_gate (dot: int, T:float) -> int:\n",
    "    '''Returns the Binary threshold output'''\n",
    "    if dot>=T:\n",
    "        return 1\n",
    "    else:\n",
    "        return 0\n",
    "T=1\n",
    "for i in range (0,4):\n",
    "    activaton = linear_threshold_gate(dot_product[i], T)\n",
    "    print(f'Activation:{activaton}')"
   ]
  },
  {
   "cell_type": "code",
   "execution_count": null,
   "id": "62b7164e-9eac-4e11-bdfa-d2d88d58cd29",
   "metadata": {},
   "outputs": [],
   "source": []
  }
 ],
 "metadata": {
  "kernelspec": {
   "display_name": "Python 3 (ipykernel)",
   "language": "python",
   "name": "python3"
  },
  "language_info": {
   "codemirror_mode": {
    "name": "ipython",
    "version": 3
   },
   "file_extension": ".py",
   "mimetype": "text/x-python",
   "name": "python",
   "nbconvert_exporter": "python",
   "pygments_lexer": "ipython3",
   "version": "3.12.1"
  }
 },
 "nbformat": 4,
 "nbformat_minor": 5
}
